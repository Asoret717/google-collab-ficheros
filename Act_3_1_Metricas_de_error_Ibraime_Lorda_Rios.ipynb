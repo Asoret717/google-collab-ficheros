{
  "nbformat": 4,
  "nbformat_minor": 0,
  "metadata": {
    "colab": {
      "provenance": []
    },
    "kernelspec": {
      "name": "python3",
      "display_name": "Python 3"
    },
    "language_info": {
      "name": "python"
    }
  },
  "cells": [
    {
      "cell_type": "markdown",
      "source": [
        "Ibraime Lorda Rios"
      ],
      "metadata": {
        "id": "S0HLPFk2637k"
      }
    },
    {
      "cell_type": "markdown",
      "source": [
        "23_24\n",
        "\n",
        "Actividad 3.1 - Métricas de error para los problemas de regresión\n",
        "\n",
        "A partir de los ejemplos indicados realizar los ejercicios propuestos"
      ],
      "metadata": {
        "id": "irnc2RYVuYVU"
      }
    },
    {
      "cell_type": "code",
      "execution_count": null,
      "metadata": {
        "colab": {
          "base_uri": "https://localhost:8080/"
        },
        "id": "jVLFdfzxdsfG",
        "outputId": "c90bfcb3-bb3f-449a-ac50-1b84501fec35"
      },
      "outputs": [
        {
          "output_type": "execute_result",
          "data": {
            "text/plain": [
              "0.0"
            ]
          },
          "metadata": {},
          "execution_count": 1
        }
      ],
      "source": [
        "#Error absoluto medio - mae\n",
        "from sklearn.metrics import mean_absolute_error\n",
        "# Ejemplo 1\n",
        "y_true = [2.5, 0, 2, 8]\n",
        "y_pred = [2.5, 0, 2, 8]\n",
        "mean_absolute_error(y_true, y_pred)\n"
      ]
    },
    {
      "cell_type": "code",
      "source": [
        "# Ejer 1: Crear dos vectores/arrays de valores ciertos y valores previstos, y calcular el mae.\n",
        "# ¿Qué valores deberían de tener el array pred para que el error fuese 0? ¿y para que error fuese de 0.25?\n",
        "\n",
        "#Error absoluto medio - mae\n",
        "from sklearn.metrics import mean_absolute_error\n",
        "# Ejemplo 1\n",
        "y_true = [2, 2, 2, 2]\n",
        "y_pred = [2, 2, 2, 2]\n",
        "a = mean_absolute_error(y_true, y_pred)\n",
        "\n",
        "# Para que de 0 tienen que ser iguales, y para que de 0,25 fallar 1 de los 4 valores (25%)\n",
        "y_true = [2, 2, 2, 2]\n",
        "y_pred = [2, 2, 2, 3]\n",
        "b = mean_absolute_error(y_true, y_pred)\n",
        "\n",
        "print(a)\n",
        "print(b)"
      ],
      "metadata": {
        "id": "67XK1bXegMai",
        "colab": {
          "base_uri": "https://localhost:8080/"
        },
        "outputId": "150a1d43-f256-420c-9220-2f64aecbc828"
      },
      "execution_count": null,
      "outputs": [
        {
          "output_type": "stream",
          "name": "stdout",
          "text": [
            "0.0\n",
            "0.25\n"
          ]
        }
      ]
    },
    {
      "cell_type": "code",
      "source": [
        "# Ejemplo 2\n",
        "y_true = [[0.5, 1], [-1, 1], [7, -6]]\n",
        "y_pred = [[0, 2], [-1, 2], [8, -5]]\n",
        "mean_absolute_error(y_true, y_pred)"
      ],
      "metadata": {
        "id": "3LhzsD30f60T",
        "colab": {
          "base_uri": "https://localhost:8080/"
        },
        "outputId": "982b9c64-c017-4cb3-b4e7-9f8113937619"
      },
      "execution_count": null,
      "outputs": [
        {
          "output_type": "execute_result",
          "data": {
            "text/plain": [
              "0.75"
            ]
          },
          "metadata": {},
          "execution_count": 2
        }
      ]
    },
    {
      "cell_type": "code",
      "source": [
        "# Ejer 2: Crear dos matrices/arrays de valores ciertos y valores previstos, y calcular el mae.\n",
        "# ¿Qué valores deberían de tener el array pred para que el error fuese 0? ¿y para que error fuese de 0.33?\n",
        "\n",
        "#Error absoluto medio - mae\n",
        "from sklearn.metrics import mean_absolute_error\n",
        "# Ejemplo 1\n",
        "y_true = [2, 2, 2, 2]\n",
        "y_pred = [2, 2, 2, 2]\n",
        "a = mean_absolute_error(y_true, y_pred)\n",
        "\n",
        "# Para que de 0 tienen que ser iguales, y para que de 0,33 fallar 1 de los 3 valores (33%)\n",
        "y_true = [2, 2, 2]\n",
        "y_pred = [2, 2, 3]\n",
        "b = mean_absolute_error(y_true, y_pred)\n",
        "\n",
        "print(a)\n",
        "print(b)\n"
      ],
      "metadata": {
        "id": "LnPx6A4Astfq",
        "colab": {
          "base_uri": "https://localhost:8080/"
        },
        "outputId": "45ded5bb-54ed-4912-d520-6eb63e7f7a3e"
      },
      "execution_count": null,
      "outputs": [
        {
          "output_type": "stream",
          "name": "stdout",
          "text": [
            "0.0\n",
            "0.3333333333333333\n"
          ]
        }
      ]
    },
    {
      "cell_type": "code",
      "source": [
        "# Error cuadrático medio - mse\n",
        "from sklearn.metrics import mean_squared_error\n",
        "y_true = [3, -0.5, 2, 7]\n",
        "y_pred = [2.5, 0.0, 2, 8]\n",
        "mean_squared_error(y_true, y_pred)\n"
      ],
      "metadata": {
        "colab": {
          "base_uri": "https://localhost:8080/"
        },
        "id": "59efr-GWgKP6",
        "outputId": "ae6b9c8b-b5ab-4ad1-ee9f-f3b2d2fa70d1"
      },
      "execution_count": null,
      "outputs": [
        {
          "output_type": "execute_result",
          "data": {
            "text/plain": [
              "0.375"
            ]
          },
          "metadata": {},
          "execution_count": 3
        }
      ]
    },
    {
      "cell_type": "code",
      "source": [
        "# Ejer 3: Crear dos vectores/arrays de valores ciertos y valores previstos, y calcular el mse.\n",
        "# ¿Qué valores deberían de tener el array pred para que el error fuese 0? ¿y para que error fuese de 0.25?\n",
        "# Nota: Es muy interesante comparar los resultados al aplicaer mae y mse sobre el mismo conjunto de datos. Podrás obervar\n",
        "#       que mse \"penaliza más\" (es decir, el número que se obtiene es mayor) con las diferencias entre los valores originales y los predichos que mae\n",
        "\n",
        "# Error cuadrático medio - mse\n",
        "from sklearn.metrics import mean_squared_error\n",
        "from sklearn.metrics import mean_absolute_error\n",
        "# Ejemplo 1\n",
        "y_true = [2, 2, 2, 2]\n",
        "y_pred = [2, 2, 2, 2]\n",
        "a = mean_squared_error(y_true, y_pred)\n",
        "\n",
        "# Para que de 0 tienen que ser iguales, y para que de 0,33 fallar 1 de los 3 valores (33%)\n",
        "y_true = [2, 2, 2, 2]\n",
        "y_pred = [2, 2, 2, 3]\n",
        "b = mean_squared_error(y_true, y_pred)\n",
        "\n",
        "print(a)\n",
        "print(b)\n",
        "\n",
        "y_true = [2, 2, 2, 2]\n",
        "y_pred = [2, 2, 2, 10]\n",
        "\n",
        "# Mean\n",
        "c = mean_absolute_error(y_true, y_pred)\n",
        "\n",
        "# Mse\n",
        "d = mean_squared_error(y_true, y_pred)\n",
        "\n",
        "# Convirtiendo los valores a cadenas para concatenar\n",
        "c_str = str(c)\n",
        "d_str = str(d)\n",
        "\n",
        "# Imprimiendo la diferencia (El número que se obtiene con mse es mayor al probar con números más grandes)\n",
        "print(\"Ejemplo diferencia entre Mean (\" + c_str + \") y Mse (\" + d_str + \")\")\n"
      ],
      "metadata": {
        "id": "FLZt6j17u7sE",
        "colab": {
          "base_uri": "https://localhost:8080/"
        },
        "outputId": "50d271cf-2528-453b-a55f-4ae10f10c82c"
      },
      "execution_count": null,
      "outputs": [
        {
          "output_type": "stream",
          "name": "stdout",
          "text": [
            "0.0\n",
            "0.25\n",
            "Ejemplo diferencia entre Mean (2.0) y Mse (16.0)\n"
          ]
        }
      ]
    },
    {
      "cell_type": "code",
      "source": [
        "# Ejer 4: Crear dos matrices/arrays de valores ciertos y valores previstos, y calcular el mse.\n",
        "# ¿Qué valores deberían de tener el array pred para que el error fuese 0? ¿y para que error fuese de 0.33?\n",
        "\n",
        "# Error cuadrático medio - mse (Para el 33% igual con 3 valores teniendo uno distinto)\n",
        "from sklearn.metrics import mean_squared_error\n",
        "y_true = [2, 2, 2]\n",
        "y_pred = [2, 2, 3]\n",
        "mean_squared_error(y_true, y_pred)"
      ],
      "metadata": {
        "id": "M9nZd4nLvIRB",
        "colab": {
          "base_uri": "https://localhost:8080/"
        },
        "outputId": "ce7cba4a-c70d-46e5-f5e2-dc594a049d05"
      },
      "execution_count": null,
      "outputs": [
        {
          "output_type": "execute_result",
          "data": {
            "text/plain": [
              "0.3333333333333333"
            ]
          },
          "metadata": {},
          "execution_count": 23
        }
      ]
    },
    {
      "cell_type": "code",
      "source": [
        "# Error de porcentaje absoluto medio - mape\n",
        "from sklearn.metrics import mean_absolute_percentage_error\n",
        "y_true = [3, -0.5, 2, 7]\n",
        "y_pred = [2.5, 0.0, 2, 8]\n",
        "mean_absolute_percentage_error(y_true, y_pred)"
      ],
      "metadata": {
        "colab": {
          "base_uri": "https://localhost:8080/"
        },
        "id": "0j3DDJPnBTmF",
        "outputId": "15363258-5e69-496a-fc26-5ccaa583dee4"
      },
      "execution_count": null,
      "outputs": [
        {
          "output_type": "execute_result",
          "data": {
            "text/plain": [
              "0.3273809523809524"
            ]
          },
          "metadata": {},
          "execution_count": 16
        }
      ]
    },
    {
      "cell_type": "code",
      "source": [
        "# Ejer 5: Crear dos vectores/arrays de valores ciertos y valores previstos, y calcular el mape.\n",
        "# ¿Qué valores deberían de tener el array pred para que el error fuese 0?\n",
        "\n",
        "# Error de porcentaje absoluto medio - mape (Ponemos 2 valores iguales)\n",
        "from sklearn.metrics import mean_absolute_percentage_error\n",
        "y_true = [2, 2, 2, 2]\n",
        "y_pred = [2, 2, 2, 2]\n",
        "mean_absolute_percentage_error(y_true, y_pred)\n"
      ],
      "metadata": {
        "id": "0vsYXdRqB0TE",
        "colab": {
          "base_uri": "https://localhost:8080/"
        },
        "outputId": "2114627b-08b8-4cb6-ae01-6acebbd86b6d"
      },
      "execution_count": null,
      "outputs": [
        {
          "output_type": "execute_result",
          "data": {
            "text/plain": [
              "0.0"
            ]
          },
          "metadata": {},
          "execution_count": 24
        }
      ]
    },
    {
      "cell_type": "code",
      "source": [
        "# Ejer 6: Crear dos matrices/arrays de valores ciertos y valores previstos, y calcular el MAPE.\n",
        "# ¿Qué valores deberían de tener el array pred para que el error fuese 0?\n",
        "\n",
        "# Error de porcentaje absoluto medio - mape (Ponemos 2 valores iguales)\n",
        "from sklearn.metrics import mean_absolute_percentage_error\n",
        "y_true = [2, 2, 2, 2]\n",
        "y_pred = [2, 2, 2, 2]\n",
        "mean_absolute_percentage_error(y_true, y_pred)"
      ],
      "metadata": {
        "id": "085pmFVO-cA3",
        "colab": {
          "base_uri": "https://localhost:8080/"
        },
        "outputId": "b33671da-9158-4f6a-a594-ba26b4524af0"
      },
      "execution_count": null,
      "outputs": [
        {
          "output_type": "execute_result",
          "data": {
            "text/plain": [
              "0.0"
            ]
          },
          "metadata": {},
          "execution_count": 25
        }
      ]
    }
  ]
}